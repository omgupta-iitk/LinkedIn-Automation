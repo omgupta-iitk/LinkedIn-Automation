{
  "nbformat": 4,
  "nbformat_minor": 0,
  "metadata": {
    "colab": {
      "provenance": []
    },
    "kernelspec": {
      "name": "python3",
      "display_name": "Python 3"
    },
    "language_info": {
      "name": "python"
    }
  },
  "cells": [
    {
      "cell_type": "markdown",
      "source": [
        "## Posting"
      ],
      "metadata": {
        "id": "_gjutFffIDNF"
      }
    },
    {
      "cell_type": "code",
      "source": [
        "import requests\n",
        "\n",
        "def linkedin_post_agent(text, content, media=False):\n",
        "    key = 'KEY'\n",
        "    get_header = {\n",
        "        'Authorization': 'Bearer {key}'.format(key=key),\n",
        "    }\n",
        "\n",
        "    r = requests.get('https://api.linkedin.com/v2/userinfo', headers=get_header)\n",
        "    di = r.json()\n",
        "    print(di)\n",
        "    user_id = di['sub']\n",
        "\n",
        "    body_text = {\n",
        "        \"author\": f\"urn:li:person:{user_id}\".format(user_id=user_id),\n",
        "        \"lifecycleState\": \"PUBLISHED\",\n",
        "        \"specificContent\": {\n",
        "            \"com.linkedin.ugc.ShareContent\": {\n",
        "                \"shareCommentary\": {\n",
        "                    \"text\": \"Automate your linkedIn with python\"\n",
        "                },\n",
        "                \"shareMediaCategory\": \"NONE\"\n",
        "            }\n",
        "        },\n",
        "        \"visibility\": {\n",
        "            \"com.linkedin.ugc.MemberNetworkVisibility\": \"PUBLIC\"\n",
        "        }\n",
        "    }\n",
        "\n",
        "    post_text = requests.post('https://api.linkedin.com/v2/ugcPosts', json=body_text, headers=get_header)\n",
        "    post_text = post_text.json()\n",
        "    print(post_text)"
      ],
      "metadata": {
        "id": "9jms4Ch0teYF"
      },
      "execution_count": 16,
      "outputs": []
    },
    {
      "cell_type": "code",
      "source": [
        "linkedin_post_agent(None, content = \"NONE\")"
      ],
      "metadata": {
        "colab": {
          "base_uri": "https://localhost:8080/"
        },
        "id": "N5Wfgo3A8EIu",
        "outputId": "af523e77-66f1-4fca-e6b3-10c6ac385891"
      },
      "execution_count": 17,
      "outputs": [
        {
          "output_type": "stream",
          "name": "stdout",
          "text": [
            "{'sub': 'QTNTTsRICq', 'email_verified': True, 'name': 'Vivek Gupta', 'locale': {'country': 'US', 'language': 'en'}, 'given_name': 'Vivek', 'family_name': 'Gupta', 'email': 'vivekiitk2004@gmail.com', 'picture': 'https://media.licdn.com/dms/image/v2/D5603AQG9XGc-qR5tSA/profile-displayphoto-shrink_100_100/profile-displayphoto-shrink_100_100/0/1716031035217?e=1733356800&v=beta&t=SIFQwgFQVpQIIz6SJ9sRglPt36Bc2mLylCpAUmbdeh8'}\n",
            "{'id': 'urn:li:share:7246429044202774528'}\n"
          ]
        }
      ]
    },
    {
      "cell_type": "markdown",
      "source": [
        "## Delete a post"
      ],
      "metadata": {
        "id": "1lZlYrLmH5SL"
      }
    },
    {
      "cell_type": "code",
      "source": [
        "import requests\n",
        "\n",
        "def delete_linkedin_share(share_id):\n",
        "    key = 'KEY'  # Replace with your actual LinkedIn API access token\n",
        "    headers = {\n",
        "        'Authorization': f'Bearer {key}',\n",
        "        'X-Restli-Protocol-Version': '2.0.0',\n",
        "        'Content-Type': 'application/json'\n",
        "    }\n",
        "\n",
        "    # Send the DELETE request to remove the post\n",
        "    response = requests.delete(f'https://api.linkedin.com/v2/shares/{share_id}', headers=headers)\n",
        "\n",
        "    if response.status_code == 200:\n",
        "        print(\"Share deleted successfully.\")\n",
        "    else:\n",
        "        print(f\"Failed to delete share. Status Code: {response.status_code}, Response: {response.text}\")\n",
        "\n",
        "# Example usage: Delete a share post\n",
        "share_id = '7246429044202774528'  # Use only the numeric part of the URN\n",
        "\n",
        "delete_linkedin_share(share_id)\n"
      ],
      "metadata": {
        "colab": {
          "base_uri": "https://localhost:8080/"
        },
        "id": "KL98Qyt",
        "outputId": "-4551-d733-5930ccb6ec82"
      },
      "execution_count": 4,
      "outputs": [
        {
          "output_type": "stream",
          "name": "stdout",
          "text": [
            "Failed to delete share. Status Code: 200, Response: \n"
          ]
        }
      ]
    }
  ]
}
